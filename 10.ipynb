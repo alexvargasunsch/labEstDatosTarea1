{
 "cells": [
  {
   "attachments": {},
   "cell_type": "markdown",
   "metadata": {},
   "source": [
    "# Recursividad\n",
    "\n",
    "Es una funcion que se llama asi misma de manera recurrente, esta puede ser de manera direnta o indirenta.\n",
    "\n",
    "## Ventajas\n",
    "\n",
    "- No es necesario defenir una secuencia de pasos para poder solucionar un interrogante.\n",
    "- Se dan solucines mas factibles a problemas complejos.\n",
    "- Se resuelven los problemas cotidianos de una manera mas eficiente.\n",
    "- Permite crear codigo con sintaxis clara y sencilla, lo cual favorece al programador en el entendimiento y tiempo.\n"
   ]
  }
 ],
 "metadata": {
  "kernelspec": {
   "display_name": "Python 3",
   "language": "python",
   "name": "python3"
  },
  "language_info": {
   "name": "python",
   "version": "3.10.7 (tags/v3.10.7:6cc6b13, Sep  5 2022, 14:08:36) [MSC v.1933 64 bit (AMD64)]"
  },
  "orig_nbformat": 4,
  "vscode": {
   "interpreter": {
    "hash": "959e57dc0a37e639553a4bdb350896ed4d4f15ec6ead1eb0fd82df70d0f6f87c"
   }
  }
 },
 "nbformat": 4,
 "nbformat_minor": 2
}
